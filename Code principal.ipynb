{
 "cells": [
  {
   "cell_type": "code",
   "execution_count": null,
   "metadata": {},
   "outputs": [],
   "source": [
    "# Importation des bibliothèques\n",
    " # Initialisation de la classe\n",
    " def_init_(self, strategy):\n",
    "  \n",
    " # Compute : récupération, stockage des données et application de la stratégie\n",
    " def Compute(self, symbols, start_date, end_date):\n",
    "   \n",
    "  # Summary : indicateurs de performance de la stratégie
    "  def Summary(self)
    "  # Déclaration des dictionnaires
    "   # Rendements\n",
    "   # Volatilité\n",
    "   # Bêta\n",
    "   # Bêta haussier\n",
    "   # Bêta baissier\n",
    "   # Drawdown mawimal\n",
    "   # Kurtosis\n",
    "   # Skewness\n",
    "   # Ratio de sharpe\n",
    "   # Downside risk (DSR)\n",
    "   # Ratio de sortino\n",
    "  \n",
    " # Plot : Visualisation des résultats\n",
    " def Plot(self):
    " \n",

   ]
  }
 ],
 "metadata": {
  "language_info": {
   "name": "python"
  }
 },
 "nbformat": 4,
 "nbformat_minor": 2
}
