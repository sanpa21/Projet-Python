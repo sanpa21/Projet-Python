{
 "cells": [
  {
   "cell_type": "code",
   "execution_count": null,
   "metadata": {},
   "outputs": [],
   "source": [
    "# Importation des bibliothèques\n",
    "import yfinance as yf\n",
    "import matplotlib.pyplot as plt\n",
    "import pandas as pd\n",
    "import mplfinance as mpf\n",
    "import numpy as np\n",
    "import os\n",
    "\n",
    "class Backtester:\n",
    "    # Initialisation de la classe\n",
    "    def __init__(self, strategy):\n",
    "        \n",
    "        \n",
    "    # Compute : récupération, stockage des données et application de la stratégie\n",
    "    def compute(self, symbols, start_date, end_date):\n",
    "        return\n",
    "       \n",
    "    # Summary : indicateurs de performance de la stratégie\n",
    "    def summary(self):\n",
    "        # Déclaration des dictionnaires\n",
    "        # Rendements\n",
    "        # Volatilité\n",
    "        # Bêta\n",
    "        # Bêta haussier\n",
    "        # Bêta baissier\n",
    "        # Drawdown mawimal\n",
    "        # Kurtosis\n",
    "        # Skewness\n",
    "        # Ratio de sharpe\n",
    "        # Downside risk (DSR)\n",
    "        # Ratio de sortino\n",
    "        return\n",
    "      \n",
    "    # Plot : Visualisation des résultats\n",
    "    def plot(self):\n",
    "        return\n"
   ]
  }
 ],
 "metadata": {
  "language_info": {
   "name": "python"
  }
 },
 "nbformat": 4,
 "nbformat_minor": 2
}

